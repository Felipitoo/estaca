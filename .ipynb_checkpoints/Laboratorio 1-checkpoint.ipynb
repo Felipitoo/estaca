{
 "cells": [
  {
   "cell_type": "markdown",
   "metadata": {},
   "source": [
    "<table style=\"width:100%\">\n",
    "  <tr>\n",
    "    <th align=\"right\"><img src=\"img/dilogo.png\" style=\"float:left;height:90px\"></th>\n",
    "    <th align=\"center\">\n",
    "    <h1 align=\"center\">Laboratorio 1</h1>\n",
    "    <h2 align=\"center\">Profesor: Ricardo Ñanculef</h2>\n",
    "    <h3 align=\"center\">Ayudante: Gabriel Ortega</h3>\n",
    "    <h3 align=\"center\">Estudiante1;rol</h3>\n",
    "    <h3 align=\"center\">Estudiante2;rol</h3>\n",
    "    <h3 align=\"center\">Agosto de 2019</h3>\n",
    "    </th> \n",
    "    <th align=\"left\"><img src=\"img/usmlogo.png\" style=\"float:right;height:85px\"></th>\n",
    "  </tr>"
   ]
  },
  {
   "cell_type": "markdown",
   "metadata": {},
   "source": [
    "> <font size = \"+2\"><b>Antes de corregir se correrá su notebook utilizando la función Cell $\\rightarrow$ Run All.</b></font>\n",
    "\n",
    "\n",
    "## Instrucciones\n",
    "\n",
    "La modalidad de trabajo será mediante el uso de jupyter notebook. El notebook debe ser desarrollado en parejas o individual y ser entregado el 16 de septiembre de 2019.\n",
    "\n",
    "La **modalidad de entrega será un archivo Apellido1_Apellido2_Lab1.zip** que contenga un notebook que incluya todas las preguntas con sus respectivas respuestas, un README que indique la forma correcta de ejecutar su notebook y cualquier archivo/carpeta extra que considere necesario para el correcto funcionamiento de su tarea (no es necesario adjuntar los .csv que se utilicen para trabajar). El laboratorio puede ser trabajado tanto en lenguaje R como en python 3 (para los que usen python 2.X, absténganse a las consecuencias). Lea bien el enunciado.\n",
    "\n",
    "\n",
    "**Cualquier copia detectada implicará nota 0 en el laboratorio correspondiente y se notificará la situación al profesor.**\n",
    "\n",
    "\n"
   ]
  },
  {
   "cell_type": "markdown",
   "metadata": {},
   "source": [
    "## 1. Limpiando Datos (15p)\n",
    "\n",
    "Como se mencionó en la ayudantía de laboratorio, la limpieza de datos es algo importante que se debe realizar antes de trabajar con un conjunto de datos, en esta sección trabajará con el dataset \"limpieza.csv\". Se espera que usted sea capaz de evidenciar las fallas dentro de este dataset y después de realizar la limpieza presente el dataset final resultante para comparar. \n",
    "\n",
    ">**Importante:** Si bien la limpieza es subjetiva, no optará a todo el puntaje de esta sección si presenta una limpieza incompleta (se observa que su dataset final se puede limpiar más a simple vista)."
   ]
  },
  {
   "cell_type": "code",
   "execution_count": null,
   "metadata": {},
   "outputs": [],
   "source": []
  },
  {
   "cell_type": "markdown",
   "metadata": {},
   "source": [
    "## 2. Apps en la Playstore (35p)\n",
    "\n",
    "Google Play Store actualmente posee una enorme cantidad de aplicaciones que pueden ser descargadas por los usuarios. En esta sección utilizará una pequeña parte de dicho universo y trabajará principalmente en análisis exploratorio de los datos para responder las preguntas que verá a continuación. \n",
    "\n",
    "El archivo a utilizar es \"googleplaystore.csv\" y para información extra puede referirse a [este enlace](https://www.kaggle.com/lava18/google-play-store-apps)\n",
    "\n",
    ">PD: Hay 1 fila mala en el dataset, no es difícil de identificar."
   ]
  },
  {
   "cell_type": "markdown",
   "metadata": {},
   "source": [
    ">a) ¿Es posible observar alguna concentración de ratings de las aplicaciones en torno a un intervalo? Si su respuesta es sí, ¿Qué rango/s tiene/n mayor concentración?\n",
    "\n",
    "Si es posible observar una mayor concentración entorno a ciertos intervalos. Para esto se utilizo un histograma con clases definidas segun Sturges. A partir del histograma obtenido, se observa que las clases 13 y 14 son las que presentan una mayor concentración, es decir, se concetran entre un rating de 4.2 y 4.733."
   ]
  },
  {
   "cell_type": "code",
   "execution_count": null,
   "metadata": {},
   "outputs": [],
   "source": [
    "import pandas as pd\n",
    "import matplotlib.pyplot as plt\n",
    "import numpy as np\n",
    "import math\n",
    "\n",
    "%matplotlib inline\n",
    "\n",
    "\n",
    "data = pd.read_csv(\"googleplaystore.csv\")\n",
    "\n",
    "\n",
    "data.drop_duplicates(keep = False, inplace = True) \n",
    "\n",
    "i = data[data[\"Rating\"]==19].index\n",
    "\n",
    "data=data.drop(i)\n",
    "\n",
    "notas = data[\"Rating\"]\n",
    "\n",
    "mediana=notas.median()\n",
    "\n",
    "notas.fillna(mediana, inplace=True)\n",
    "\n",
    "#intervalos = [1,1.27,1.54,1.81,2.08,2.35,2.89,3.16,3.43,3.7,3.97,4.24,4.51,4.78,5.05,5.32]\n",
    "notas = notas[notas != 19.0]\n",
    "\n",
    "\n",
    "counts, bins , patches = plt.hist(notas,bins=\"sturges\",facecolor='blue',histtype='bar',edgecolor='k')\n",
    "\n",
    "plt.xlabel('Ratings')\n",
    "plt.ylabel('Cantidad de Aplicaciones')\n",
    "plt.title('Histograma de Ratings de aplicaciones')\n",
    "\n",
    "plt.xticks(bins,rotation=\"vertical\")\n",
    "\n",
    "plt.show()\n",
    "\n",
    "\n",
    "    \n",
    "\n"
   ]
  },
  {
   "cell_type": "markdown",
   "metadata": {},
   "source": [
    ">b) ¿Qué grupo tiene ratings más dispersos, las aplicaciones que pertenecen a la categoría de \"EDUCATION\" o las que pertenecen a la categoría de \"MEDICAL\"? Utilice al menos 1 recurso visual y 1 medida de tendencia para responder. \n",
    "\n",
    "La categoria MEDICAL de las aplicaciones es mas disperso que la categoria EDUCATION de las aplicaciones. Esto se demuestra a traves de dos elementos, primero la diferencia entre los valores de las desviaciones estandar de cada grupo de aplicaciones, para las aplicaciones de categoria MEDICAL se obutvo una desviación estandar del 0.70, mientras que para las aplicaciones de la categoria EDUCATION se obtuvo una desviación estandar del 0.27. Estos valores de varianza indican que los valores de rating de MEDICAL se distribuyen más a lo lejos del promedio de la muestra que las de EDUCATION, esta ultima con mas valores acumulados cerca de su promedio.\n",
    "\n",
    "Lo anterior se ve complementado con un boxplot por Rating de las categorias MEDICAL y EDUCATION, el cual muestra dos cosas significativas, en primer lugar se ve que la caja de EDUCATION esta más comprimida que la caja de MEDICAL, indicando que el 50% de los valores de rating de EDUCATION son más cercanos a la mediana (Quartil 2) que el 50% de los valores de MEDICAL, en segundo lugar los boxplot muestran la diferencia en cantidad de outliers inferiores, mientras EDUCATION tiene solo 1 outlier, MEDICAL posee 9 outliers. Esto ultimo, en conjunto con una mayor varianza de MEDICAL, muestran que la dispersión de los datos de MEDICAL es mayor (indicaria que existen valores inferiores muy extremos, como el outliner de Rating 1 de MEDICAL)."
   ]
  },
  {
   "cell_type": "code",
   "execution_count": null,
   "metadata": {},
   "outputs": [],
   "source": [
    "import pandas as pd\n",
    "import matplotlib.pyplot as plt\n",
    "import numpy as np\n",
    "import math\n",
    "\n",
    "\n",
    "%matplotlib inline\n",
    "\n",
    "\n",
    "data = pd.read_csv(\"googleplaystore.csv\")\n",
    "\n",
    "data.drop_duplicates(keep = False, inplace = True) \n",
    "\n",
    "i = data[data[\"Rating\"]==19].index\n",
    "\n",
    "data=data.drop(i)\n",
    "#data.query('Category == \"EDUCATION\"', inplace = False) \n",
    "\n",
    "check_apps = data[(data.Category == \"EDUCATION\") | (data.Category == \"MEDICAL\")]\n",
    "\n",
    "educ_apps = data[data.Category == \"EDUCATION\"]\n",
    "\n",
    "med_apps = data[data.Category == \"MEDICAL\"]\n",
    "\n",
    "\n",
    "check_apps.boxplot(column=\"Rating\",by=\"Category\")\n",
    "\n",
    "\n",
    "varianza_educ=educ_apps.loc[:,\"Rating\"].var()\n",
    "\n",
    "varianza_med=med_apps.loc[:,\"Rating\"].var()\n",
    "\n",
    "\n",
    "print(\"La varianza del rating de las aplicaciones de educacion es : \" + str(varianza_educ))\n",
    "print(\"La varianza del rating de las aplicacione de salud es : \"+ str(varianza_med))\n",
    "\n",
    "\n",
    "print(\"La desviación estandar del rating de las aplicaciones de educacion es : \" + str(educ_apps[\"Rating\"].std()))\n",
    "print(\"La desviación estandar del rating de las aplicacione de salud es : \"+ str(med_apps[\"Rating\"].std()))\n",
    "\n",
    "\n",
    "\n",
    "#print (data)\n",
    "\n",
    "#data.query('Category == \"MEDICAL\"', inplace = False) \n",
    "#print(data)\n",
    "\n",
    "plt.show()"
   ]
  },
  {
   "cell_type": "markdown",
   "metadata": {},
   "source": [
    ">c) Construya un boxplot sobre la cantidad de instalaciones de las aplicaciones cuyo rating sea menor a 4 y otro para las aplicacions cuyo rating sea mayor o igual a 4, compare lo que observa. \n",
    "\n",
    "A partir de los boxplots se puede analizar:\n",
    "\n",
    "- El 75% inferior de las aplicaciones con rating menor a 4 son descargadas menos que el 25% superior de las con Rating mayor o igual a 4.\n",
    "\n",
    "- El 50% de las aplicaciones con rating mayor o igual a 4 tienen una dispersión mayor en torno a la mediana que las que tienen un rating menor a 4, es decir, las aplicaciones con rating mayor o igual a 4 no se concentran en torno a un cierto valor de descarga, mientras que las con menor a 4 tienden a descargarse en torno a un valor conocido (la mediana de los datos).\n",
    "\n",
    "-\n",
    "\n",
    "\n",
    "\n",
    "\n",
    "**Hint:** Podría aplicar algún cambio de escala a los valores. ¿Cuál? No log sé. "
   ]
  },
  {
   "cell_type": "code",
   "execution_count": null,
   "metadata": {},
   "outputs": [],
   "source": [
    "import pandas as pd\n",
    "import matplotlib.pyplot as plt\n",
    "import numpy as np\n",
    "import math\n",
    "\n",
    "def change_log(x):\n",
    "    if x > 0:\n",
    "        return math.log(x,10)\n",
    "    else:\n",
    "        return 0\n",
    "\n",
    "def mayore(x):\n",
    "    if x<4:\n",
    "        return \"Rating menor a 4\"\n",
    "    \n",
    "    else:\n",
    "        return \"Rating igual o mayor a 4\"\n",
    "    \n",
    "%matplotlib inline\n",
    "\n",
    "\n",
    "data = pd.read_csv(\"googleplaystore.csv\")\n",
    "\n",
    "data.drop_duplicates(keep = False, inplace = True) \n",
    "\n",
    "i = data[data[\"Rating\"] == 19].index\n",
    "\n",
    "data=data.drop(i)\n",
    "\n",
    "\n",
    "\n",
    "data[\"Installs\"] = data[\"Installs\"].apply(lambda x : int(x.replace(\"+\",\"\").replace(\",\",\"\")))\n",
    "\n",
    "\n",
    "data[\"Installs\"] = data[\"Installs\"].apply(change_log)\n",
    "\n",
    "data[\"Rating\"] = data[\"Rating\"].apply(mayore)\n",
    "\n",
    "\n",
    "data.boxplot(column=\"Installs\",by=\"Rating\", figsize=(16,12))\n",
    "\n",
    "plt.show()\n",
    "\n",
    "\n",
    "\n",
    "\n"
   ]
  },
  {
   "cell_type": "markdown",
   "metadata": {},
   "source": [
    ">d) Para cada categoría obtenga el rango, la deviación estándar, varianza del rating y la cantidad de aplicaciones pertenecientes a dicha categoría y responda:\n",
    "\n",
    "* De las aplicaciones de mayor rango (fíjelo usted) ¿Cuáles presentan mayor y menor variabilidad?\n",
    "* ¿Cuál es la principal diferencia entre las aplicaciones cuyo rango es inferior a 2.5 y las cuyo rango es mayor a dicho valor? (Si usted no nota una diferencia significativa es una respuesta válida, siempre y cuando esté fundamentada)\n",
    "* ¿Es posible concluir que las categorías con una mayor cantidad de aplicaciones presentan una mayor variabilidad de rating que aquellas con menos aplicaciones? \n",
    "\n",
    "a) Se estudiaran las con rango mayor a 3.5:\n",
    "\n",
    "-Las con mayor variabilidad son MEDICAL , LIFESTYLE, HEALTH_AND_FITNES,COMMUNICATION,BUSINESS y FINANCE (en orden decreciente de varibilidad) , mientras que las que presentan menor variabialidad son DATING,TOOLS,PRODUCTIVITY,FAMILY,SPORTS y GAME (en orden decreciente).\n",
    "\n",
    "b) No se encontro una diferencia destacable entre estos valores de rango, ya que el rango es una medida estadistica muy cruda y nada robusta, por lo tanto es sensible a outliers. Una forma de apreciar esto seria que en un conjunto de datos de 100 valores, 98 valores pueden encontrarse en un intervalo entre [50,55] pero los otros dos que quedan son 0 y 100, dando un rango de 100. Es por esto que para denotar alguna diferencia en los datasets es mas optimo comparar varizanzas, quartiles o desviaciones estandar. Si el rango sirve para identificar entre que valores se mueve el dataset.\n",
    "\n",
    "c)No es posible concluir que una mayor cantidad de aplicaciones implique una mayor variabilidad de rating ya que podemos observar que hay aplicaciones con menor cantidad (menor a 100 apps) con una varianza muy mayor a tipos de aplicaciones con mayor cantidad (mayor a 300). Para demostrar lo anterior se realizaron dos graficos de dispersión junto con determinar si existia una linea de tendencia creciente entre la cantidad de aplicación y su variabilidad."
   ]
  },
  {
   "cell_type": "code",
   "execution_count": null,
   "metadata": {
    "scrolled": false
   },
   "outputs": [],
   "source": [
    "import pandas as pd\n",
    "import matplotlib.pyplot as plt\n",
    "import numpy as np\n",
    "import math\n",
    "\n",
    "    \n",
    "%matplotlib inline\n",
    "\n",
    "def rango_stat(x):\n",
    "    return x[\"Rating\"].max()-x[\"Rating\"].min()\n",
    "\n",
    "\n",
    "\n",
    "data = pd.read_csv(\"googleplaystore.csv\")\n",
    "\n",
    "data.drop_duplicates(keep = False, inplace = True) \n",
    "\n",
    "i = data[data[\"Rating\"] == 19].index\n",
    "\n",
    "data=data.drop(i)\n",
    "\n",
    "for categoria in data[\"Category\"].unique():\n",
    "    print(\"\\n\")\n",
    "    print(\"Para la categoria : \" + categoria)\n",
    "    print(\"\\n\")\n",
    "    print(\"La varianza es : \" + str(data[data[\"Category\"] == categoria ][\"Rating\"].var()))\n",
    "    print(\"La desviación estandar es : \" + str(data[data[\"Category\"] == categoria ][\"Rating\"].std()))\n",
    "    print(\"El rango es : \" + str(rango_stat(data[data[\"Category\"] == categoria ])))\n",
    "    print(\"La cantidad de aplicaciones de la categoria \" + categoria + \" es : \" + str(data[data[\"Category\"] == categoria ][\"App\"].count()) )\n",
    "\n",
    "    \n",
    "    \n",
    "\n",
    "xx=[]\n",
    "xy=[]\n",
    "xyy= []\n",
    "for categoria in data[\"Category\"].unique():\n",
    "    if data[data[\"Category\"] == categoria ][\"App\"].count()<700:\n",
    "        xx.append(data[data[\"Category\"] == categoria ][\"App\"].count())\n",
    "        xy.append(data[data[\"Category\"] == categoria ][\"Rating\"].std())\n",
    "        xyy.append(data[data[\"Category\"] == categoria ][\"Rating\"].var())\n",
    "\n",
    "        \n",
    "plt.scatter(xx,xy)\n",
    "\n",
    "#plt.scatter(xx,xyy)\n",
    "\n",
    "z = np.polyfit(xx, xy, 1)\n",
    "p = np.poly1d(z)\n",
    "plt.plot(xx,p(xx),\"r--\")\n",
    "# the line equation:\n",
    "print (\"y=%.6fx+(%.6f)\"%(z[0],z[1]))\n",
    "\n",
    "\n",
    "\"\"\"\n",
    "d= {\"Cantidad\" : xx , \"standar\" : xy}\n",
    "df = pd.DataFrame(d)\n",
    "\n",
    "print(df)\n",
    "df.plot()\n",
    "\"\"\"\n",
    "plt.show()\n",
    "\n"
   ]
  },
  {
   "cell_type": "markdown",
   "metadata": {},
   "source": [
    ">e) Responda las siguientes preguntas: \n",
    "\n",
    "* Si mi aplicación pesa mucho ¿es probable que sea mal calificada?\n",
    "* Si mi aplicación tiene una mayor cantidad de instalaciones ¿su rating será más alto?\n",
    "* Si mi app está enfocada en alguna categoría en especial ¿tendrá una mayor cantidad de instalaciones?\n",
    "* ¿Existe alguna categoría donde se aprecien más aplicaciones pagas que gratuitas?\n",
    "\n",
    "Fundamente su respuesta utilizando herramientas visuales o estadísticas. "
   ]
  },
  {
   "cell_type": "code",
   "execution_count": null,
   "metadata": {
    "scrolled": false
   },
   "outputs": [],
   "source": [
    "%matplotlib inline\n",
    "\n",
    "\n",
    "import pandas as pd\n",
    "import matplotlib.pyplot as plt\n",
    "import numpy as np\n",
    "import math\n",
    "\n",
    "    \n",
    "\n",
    "def tamanno_M(x):\n",
    "    if \"Varies with device\" == x :\n",
    "        return x\n",
    "    if \"M\" in x :\n",
    "        x = x.replace(\".\",\"\").replace(\"M\",\"\")\n",
    "        return float(x)\n",
    "    elif \"k\" in x:\n",
    "        x = x.replace(\".\",\"\").replace(\"k\",\"\")\n",
    "        x = float(x)/float(10**3)\n",
    "        return x\n",
    "\n",
    "def cleaning(x,prom):\n",
    "    if x == \"Varies with device\" :\n",
    "        return prom\n",
    "    else:\n",
    "        return x\n",
    "\n",
    "data = pd.read_csv(\"googleplaystore.csv\")\n",
    "\n",
    "data.drop_duplicates(keep = False, inplace = True) \n",
    "\n",
    "i = data[data[\"Rating\"] == 19].index\n",
    "\n",
    "data=data.drop(i)\n",
    "\n",
    "promedios={}\n",
    "\n",
    "data[\"Size\"] = data[\"Size\"].apply(tamanno_M)\n",
    "\n",
    "plt.hist(data[data[\"Size\"] != \"Varies with device\"][\"Size\"])\n",
    "\n",
    "data[\"Size\"] = data[\"Size\"].apply(cleaning,prom = data[data[\"Size\"] != \"Varies with device\"][\"Size\"].median())\n",
    "\n",
    "data[\"Installs\"] = data[\"Installs\"].apply(lambda x : int(x.replace(\"+\",\"\").replace(\",\",\"\")))\n",
    "\n",
    "\n",
    "\n",
    "plt.show()\n",
    "\n",
    "#por_tamanno[\"Size\"] = por_tamanno[\"Size\"].apply(tamanno_M)\n",
    "\n",
    "plt.figure(figsize=(10,12))\n",
    "    \n",
    "plt.scatter(data[\"Size\"],data[\"Rating\"])\n",
    "\n",
    "#plt.scatter(xx,xyy)\n",
    "\n",
    "plt.show()\n",
    "\n",
    "plt.figure(figsize=(10,12))\n",
    "   \n",
    "plt.scatter(data[\"Installs\"],data[\"Rating\"])\n",
    "\n",
    "plt.show()\n",
    "\n",
    "\n",
    "#data.plot.bar(x='Category', y='Installs', rot=0)\n",
    "\n",
    "#plt.show()\n",
    "\n",
    "\n",
    "#data[\"Size\"] = data[\"Size\"].apply(tamanno_M)"
   ]
  },
  {
   "cell_type": "markdown",
   "metadata": {},
   "source": [
    ">f) Construya un histograma de los tamaños de las aplicaciones ¿Se aprecia algún tipo de sesgo en la distribución?."
   ]
  },
  {
   "cell_type": "code",
   "execution_count": null,
   "metadata": {},
   "outputs": [],
   "source": []
  },
  {
   "cell_type": "markdown",
   "metadata": {},
   "source": [
    ">g) Haga un histograma para los ratings de cada categoría. ¿Observa algún patrón respecto al sesgo de los histogramas obtenidos?"
   ]
  },
  {
   "cell_type": "code",
   "execution_count": null,
   "metadata": {},
   "outputs": [],
   "source": []
  },
  {
   "cell_type": "markdown",
   "metadata": {},
   "source": [
    ">h) Construya un heatmap (debe investigarlo por su cuenta) de las aplicaciones pagas donde la dimensión de color sea el rating y los ejes sean el precio y el tamaño de la aplicación. Concluya respecto a lo observado."
   ]
  },
  {
   "cell_type": "code",
   "execution_count": null,
   "metadata": {},
   "outputs": [],
   "source": []
  },
  {
   "cell_type": "markdown",
   "metadata": {},
   "source": [
    "## 3. Aproximando el perímetro de una circunferencia (20p)\n",
    "\n",
    "De sus cursos de matemática seguro habrá escuchado acerca de las coordenas polares, un cambio de coordenadas donde representamos los puntos en función de un radio y un ángulo. \n",
    "\n",
    "$$\n",
    "x = r\\cdot cos(\\theta)\n",
    "$$\n",
    "\n",
    "$$\n",
    "y = r\\cdot sin(\\theta)\n",
    "$$\n",
    "\n",
    "Utilizando estas coordenadas, usted posicionará $n$ puntos aleatorios dentro de la circunferencia lo que generará un polígono irregular, para cada $n \\in [4,\\infty]$ elegido debe simular una cantidad suficiente de polígonos (800-1000) que utilizará para aproximar el perímetro de la circunferencia, luego calculará el perímetro promedio y la desviación estándar para cada $n$ utilizado.\n",
    "\n",
    "\n",
    "Una vez haya simulado con varios $n$ distintos grafique el perímetro promedio junto a su margen de error $\\bar{x} \\pm \\sigma$ y el perímetro real de la circunferencia. Utilice la cantidad de lados del polígono como el eje X de su gráfico.\n",
    "\n",
    "> El gráfico involucra 4 lineas: promedio del perímetro, perímetro real, límite superior del error y límite inferior del error.\n",
    "\n",
    "Recuerde explicar cómo utilizará el método de los polígonos para aproximar el perímetro de la circunferencia y concluya a partir de lo que observa en el gráfico.\n",
    "\n",
    "Algunos ejemplos de $n = 5$"
   ]
  },
  {
   "cell_type": "markdown",
   "metadata": {},
   "source": [
    "<table style=\"width:100%\">\n",
    "  <tr>\n",
    "    <th align=\"right\"><img src=\"img/ej1.png\" style=\"float:left;height:120px\"></th>\n",
    "    <th align=\"center\"><img src=\"img/ej2.png\" style=\"float:left;height:120px\"></th> \n",
    "    <th align=\"left\"><img src=\"img/ej3.png\" style=\"float:right;height:120px\"></th>\n",
    "  </tr>\n",
    "    \n",
    "Para facilitar la construcción del polígono se sugiere generar los $n$ puntos y luego conectarlos en sentido antihorario/horario."
   ]
  },
  {
   "cell_type": "code",
   "execution_count": null,
   "metadata": {},
   "outputs": [],
   "source": []
  },
  {
   "cell_type": "markdown",
   "metadata": {},
   "source": [
    "## 4. Bingo Ball (30p)\n",
    "\n",
    "A usted se le ha presentado la oportunidad de ganar un increíble premio que cuesta 10 veces el valor de 1 intento en el juego de de \"Bingo Ball\", el juego consiste en lo siguiente (instrucciones abajo del diagrama)"
   ]
  },
  {
   "cell_type": "markdown",
   "metadata": {},
   "source": [
    "<img src=\"img/game.png\">"
   ]
  },
  {
   "cell_type": "markdown",
   "metadata": {},
   "source": [
    "En el diagrama, los círculos representan \"etapas\" por las que la bolita puede pasar. El funcionamiento del juego es el siguiente:\n",
    "\n",
    "* Usted lanzará 7 bolitas secuencialmente.\n",
    "* Cada bolita llega inicialmente a A, B, C o D (no entre medio o a algún otro lugar). Esto se asume equiprobable a menos que se diga lo contrario.\n",
    "* En cada etapa la bolita tiene la posibilidad de caer hacia la izquierda o a la derecha. Ciertas etapas (relleno amarillo) hacen que la bolita caiga en una única dirección ya que la bolita caería del tablero si no fuera así.\n",
    "* La bolita si o sí pasará por una y solo una etapa de cada fila $F_{i}\\;\\; i \\in [1,4]$ (linea punteada en el diagrama)\n",
    "* Usted ganará el juego si cada zona final (1,2,3,4) es alcanzada al menos 1 vez por cada bolita.\n",
    "\n",
    ">En palabras simples, la bolita va bajando mientras cambia (o no) de dirección al chocar con los puntos negros.\n",
    "\n",
    "\n",
    "A continuación, se presenta un ejemplo del recorrido de una bola:\n",
    "\n",
    "<img src=\"img/game2.png\">"
   ]
  },
  {
   "cell_type": "markdown",
   "metadata": {},
   "source": [
    "Como puede ver, la bola inicialmente llegó a \"A\", luego su recorrido fue: izquierda, derecha (no hay otra opción), derecha, derecha y finalmente llegó a la zona 2.\n",
    "\n",
    "El tablero que se presenta en ambos diagramas es el mismo tablero que deberá simular (es fijo). \n",
    "Considere que $P(irse\\;a\\;la\\;izquierda) = 0.5$ a menos que se indique lo contrario.\n",
    "\n",
    "En base a esto responda:\n",
    "\n",
    ">a) ¿La cantidad de bolitas suministradas es suficiente para poder obtener el premio a un precio menor que el original?\n"
   ]
  },
  {
   "cell_type": "code",
   "execution_count": null,
   "metadata": {},
   "outputs": [],
   "source": []
  },
  {
   "cell_type": "markdown",
   "metadata": {},
   "source": [
    "> b) Para $4 \\leq n \\leq 100$ calcule la probabilidad de ganar el juego al menos 1 vez en función de $n$ bolas. Presente el resultado en un gráfico de Probabilidad v/s $n$.\n",
    "\n",
    "No basta 1 simulación para cada $n$"
   ]
  },
  {
   "cell_type": "code",
   "execution_count": null,
   "metadata": {},
   "outputs": [],
   "source": []
  },
  {
   "cell_type": "markdown",
   "metadata": {},
   "source": [
    ">c) Si a usted le queda 1 bola restante y solamente le falta cubrir la zona 3 determine la zona inicial a la que deberá apuntar el tiro para maximizar la probabilidad de ganar. "
   ]
  },
  {
   "cell_type": "code",
   "execution_count": null,
   "metadata": {},
   "outputs": [],
   "source": []
  },
  {
   "cell_type": "markdown",
   "metadata": {},
   "source": [
    ">d) Determine la probabilidad de alcanzar cada zona final si la bola llega inicialmente a \"A\". Repita el procedimiento pero esta vez utilizando \"C\" como punto de partida."
   ]
  },
  {
   "cell_type": "code",
   "execution_count": null,
   "metadata": {},
   "outputs": [],
   "source": []
  },
  {
   "cell_type": "markdown",
   "metadata": {},
   "source": [
    ">e) Si ahora la bola tiene un 70% de probabilidad de mantener la dirección actual y un 30% de cambiar de dirección ¿Mantiene la respuesta dada en a)?\n",
    "\n",
    "En la zona inicial (A,B,C,D) tiene la misma probabilidad de irse tanto a la izquierda como a la derecha, pero en las siguientes zonas si la bolita fue a la izquierda tiene un 70% de irse a la izquierda y un 30% de irse a la derecha, si después se va a la derecha tiene un 70% de probabilidad de irse a la derecha y así sucesivamente."
   ]
  },
  {
   "cell_type": "code",
   "execution_count": null,
   "metadata": {},
   "outputs": [],
   "source": []
  },
  {
   "cell_type": "markdown",
   "metadata": {},
   "source": [
    "## Reglas del Juego y Comentarios \n",
    "\n",
    "+ Errores ortográficos, de redacción y oraciones ambiguas descontarán parte de su puntaje.\n",
    "+ Las dudas deberán ser publicadas en moodle para que sus compañeros puedan beneficiarse de la respuesta, no se aceptarán dudas vía correo ni redes sociales, esto es para fomentar que todos tengan la misma información.\n",
    "+ Cada día de atraso descuenta 25 puntos de la nota final con un máximo de dos días de retraso (después es 0).\n",
    "+ La versión de R que se usará para revisar es 3.6.1\n",
    "+ La versión de Python que se usará para revisar es 3.6.8\n",
    "+ Use cualquier librería que estime conveniente, si requiere de instalación explicitarlo en el README (y bien explicitado).\n",
    "+ Código comentado para facilitar entendimiento.\n",
    "+ Sea formal y claro con su respuesta, **explique su procedimiento y luego responda.** \n",
    "+ Defina bien las secciones de su notebook, el orden siempre es bueno :) [Tips para usar Markdown](https://github.com/adam-p/markdown-here/wiki/Markdown-Cheatsheet)"
   ]
  },
  {
   "cell_type": "code",
   "execution_count": null,
   "metadata": {},
   "outputs": [],
   "source": []
  },
  {
   "cell_type": "code",
   "execution_count": null,
   "metadata": {},
   "outputs": [],
   "source": []
  }
 ],
 "metadata": {
  "kernelspec": {
   "display_name": "Python 3",
   "language": "python",
   "name": "python3"
  },
  "language_info": {
   "codemirror_mode": {
    "name": "ipython",
    "version": 3
   },
   "file_extension": ".py",
   "mimetype": "text/x-python",
   "name": "python",
   "nbconvert_exporter": "python",
   "pygments_lexer": "ipython3",
   "version": "3.7.4"
  }
 },
 "nbformat": 4,
 "nbformat_minor": 2
}
